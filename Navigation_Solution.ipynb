{
 "cells": [
  {
   "cell_type": "markdown",
   "id": "8bb2f2c9",
   "metadata": {},
   "source": [
    "### 1 - Install the necessary packages"
   ]
  },
  {
   "cell_type": "code",
   "execution_count": null,
   "id": "4057fa27",
   "metadata": {},
   "outputs": [],
   "source": [
    "!pip -q install ./python"
   ]
  },
  {
   "cell_type": "markdown",
   "id": "c574ef55",
   "metadata": {},
   "source": [
    "### 2 - Importing the necessary packages\n",
    "\n",
    "\n",
    "We begin by importing some necessary packages.  If the code cell below returns an error, please revisit the project instructions to double-check that you have installed [Unity ML-Agents](https://github.com/Unity-Technologies/ml-agents/blob/master/docs/Installation.md) and [NumPy](http://www.numpy.org/)."
   ]
  },
  {
   "cell_type": "code",
   "execution_count": 1,
   "id": "5583325e",
   "metadata": {},
   "outputs": [],
   "source": [
    "from unityagents import UnityEnvironment\n",
    "import numpy as np\n",
    "from collections import deque\n",
    "import torch\n",
    "import matplotlib.pyplot as plt\n",
    "%matplotlib inline"
   ]
  },
  {
   "cell_type": "markdown",
   "id": "741da6d2",
   "metadata": {},
   "source": [
    "### 3 - Starting the Unity environment\n",
    "\n",
    "**_Before running the code cell below_**, change the `file_name` parameter to match the location of the Unity environment that you downloaded, if you need.\n",
    "\n",
    "- **Mac**: `\"path/to/Banana.app\"`\n",
    "- **Windows** (x86): `\"path/to/Banana_Windows_x86/Banana.exe\"`\n",
    "- **Windows** (x86_64): `\"path/to/Banana_Windows_x86_64/Banana.exe\"`\n",
    "- **Linux** (x86): `\"path/to/Banana_Linux/Banana.x86\"`\n",
    "- **Linux** (x86_64): `\"path/to/Banana_Linux/Banana.x86_64\"`\n",
    "- **Linux** (x86, headless): `\"path/to/Banana_Linux_NoVis/Banana.x86\"`\n",
    "- **Linux** (x86_64, headless): `\"path/to/Banana_Linux_NoVis/Banana.x86_64\"`\n",
    "\n",
    "For instance, if you are using a Mac, then you downloaded `Banana.app`.  If this file is in the same folder as the notebook, then the line below should appear as follows:\n",
    "```\n",
    "env = UnityEnvironment(file_name=\"Banana.app\")"
   ]
  },
  {
   "cell_type": "code",
   "execution_count": 2,
   "id": "9ba8f943",
   "metadata": {
    "scrolled": true
   },
   "outputs": [
    {
     "name": "stderr",
     "output_type": "stream",
     "text": [
      "INFO:unityagents:\n",
      "'Academy' started successfully!\n",
      "Unity Academy name: Academy\n",
      "        Number of Brains: 1\n",
      "        Number of External Brains : 1\n",
      "        Lesson number : 0\n",
      "        Reset Parameters :\n",
      "\t\t\n",
      "Unity brain name: BananaBrain\n",
      "        Number of Visual Observations (per agent): 0\n",
      "        Vector Observation space type: continuous\n",
      "        Vector Observation space size (per agent): 37\n",
      "        Number of stacked Vector Observation: 1\n",
      "        Vector Action space type: discrete\n",
      "        Vector Action space size (per agent): 4\n",
      "        Vector Action descriptions: , , , \n"
     ]
    }
   ],
   "source": [
    "env = UnityEnvironment(file_name=\"/data/Banana_Linux_NoVis/Banana.x86_64\")"
   ]
  },
  {
   "cell_type": "markdown",
   "id": "62a18498",
   "metadata": {},
   "source": [
    "  ### 4 - Getting some information of the state and action spaces"
   ]
  },
  {
   "cell_type": "code",
   "execution_count": 4,
   "id": "a4ac30eb",
   "metadata": {},
   "outputs": [
    {
     "name": "stdout",
     "output_type": "stream",
     "text": [
      "States look like: [0.         1.         0.         0.         0.16895212 0.\n",
      " 1.         0.         0.         0.20073597 1.         0.\n",
      " 0.         0.         0.12865657 0.         1.         0.\n",
      " 0.         0.14938059 1.         0.         0.         0.\n",
      " 0.58185619 0.         1.         0.         0.         0.16089135\n",
      " 0.         1.         0.         0.         0.31775284 0.\n",
      " 0.        ]\n"
     ]
    }
   ],
   "source": [
    "# get the default brain\n",
    "brain_name = env.brain_names[0]\n",
    "brain = env.brains[brain_name]\n",
    "action_size = brain.vector_action_space_size # 4\n",
    "\n",
    "env_info = env.reset(train_mode=True)[brain_name]\n",
    "# examine the state space \n",
    "state = env_info.vector_observations[0]\n",
    "state_size = len(state) # 37\n",
    "print('States look like:', state)"
   ]
  },
  {
   "cell_type": "markdown",
   "id": "ffb65452",
   "metadata": {},
   "source": [
    "###  5 - Importing and initializing the agent"
   ]
  },
  {
   "cell_type": "code",
   "execution_count": 5,
   "id": "a492b741",
   "metadata": {},
   "outputs": [],
   "source": [
    "from dqn_agent import MyAgent\n",
    "myAgent = MyAgent(state_size=state_size, action_size=action_size, seed=0)"
   ]
  },
  {
   "cell_type": "markdown",
   "id": "aa1dfbbc",
   "metadata": {},
   "source": [
    "### 6 - The DQN trainning function"
   ]
  },
  {
   "cell_type": "code",
   "execution_count": 9,
   "id": "8f891daa",
   "metadata": {},
   "outputs": [],
   "source": [
    "#def dqn(n_episodes=2000, max_t=1000, eps_start=1.0, eps_end=0.01, eps_decay=0.995):\n",
    "def dqn(n_episodes=1000, max_t=1000, eps_start=1.0, eps_end=0.01, eps_decay=0.995):\n",
    "    \"\"\"Deep Q-Learning.\n",
    "    \n",
    "    Params\n",
    "    ======\n",
    "        n_episodes (int): maximum number of training episodes\n",
    "        max_t (int): maximum number of timesteps per episode\n",
    "        eps_start (float): starting value of epsilon, for epsilon-greedy action selection\n",
    "        eps_end (float): minimum value of epsilon\n",
    "        eps_decay (float): multiplicative factor (per episode) for decreasing epsilon\n",
    "    \"\"\"\n",
    "    \n",
    "    scores = []                        # list containing scores from each episode\n",
    "    scores_window = deque(maxlen=100)  # last 100 scores\n",
    "    eps = eps_start                    # initialize epsilon\n",
    "    solved = False\n",
    "    episode_solved = None\n",
    "    for i_episode in range(1, n_episodes+1):\n",
    "        #print(\"episode: \" + str(i_episode))\n",
    "        #print(\"brain_name: \" + brain_name)\n",
    "        env_info = env.reset(train_mode=True)[brain_name] # reset the environment\n",
    "        #print(\"env_info.visual_observations: \" + str(env_info.vector_observations))\n",
    "        state = env_info.vector_observations[0]\n",
    "        score = 0\n",
    "        for t in range(max_t):\n",
    "            action = int(myAgent.act(state, eps))\n",
    "            env_info = env.step(action)[brain_name]        # send the action to the environment\n",
    "            next_state = env_info.vector_observations[0]   # get the next state\n",
    "            reward = env_info.rewards[0]                   # get the reward\n",
    "            done = env_info.local_done[0]  \n",
    "            myAgent.step(state, action, reward, next_state, done)\n",
    "            state = next_state\n",
    "            score += reward\n",
    "            if done:\n",
    "                break \n",
    "        scores_window.append(score)       # save most recent score\n",
    "        scores.append(score)              # save most recent score\n",
    "        eps = max(eps_end, eps_decay*eps) # decrease epsilon\n",
    "        print('\\rEpisode {}\\tAverage Score: {:.2f}'.format(i_episode, np.mean(scores_window)), end=\"\")\n",
    "        if i_episode % 100 == 0:\n",
    "            print('\\rEpisode {}\\tAverage Score: {:.2f}'.format(i_episode, np.mean(scores_window)))\n",
    "            #print(\"Eps: \" + str(eps))\n",
    "        if (np.mean(scores_window) >= 13.0) and solved is not True:\n",
    "            solved = True\n",
    "            episode_solved = i_episode-100\n",
    "            #print('\\nEnvironment solved in {:d} episodes!\\tAverage Score: {:.2f}'.format(i_episode-100, np.mean(scores_window)))\n",
    "            #torch.save(myAgent.qnetwork_local.state_dict(), 'checkpoint.pth')\n",
    "            #break\n",
    "    if solved:\n",
    "        print('\\nEnvironment solved in {:d} episodes!'.format(episode_solved))\n",
    "    return scores"
   ]
  },
  {
   "cell_type": "markdown",
   "id": "5d1287c8",
   "metadata": {},
   "source": [
    "### 7 - Trainning and solving"
   ]
  },
  {
   "cell_type": "code",
   "execution_count": 10,
   "id": "6dc03735",
   "metadata": {},
   "outputs": [
    {
     "name": "stdout",
     "output_type": "stream",
     "text": [
      "Episode 100\tAverage Score: 1.91\n",
      "Episode 200\tAverage Score: 5.86\n",
      "Episode 300\tAverage Score: 8.95\n",
      "Episode 400\tAverage Score: 11.20\n",
      "Episode 500\tAverage Score: 12.30\n",
      "Episode 600\tAverage Score: 14.09\n",
      "Episode 700\tAverage Score: 15.44\n",
      "Episode 800\tAverage Score: 16.08\n",
      "Episode 900\tAverage Score: 15.60\n",
      "Episode 1000\tAverage Score: 16.08\n",
      "\n",
      "Environment solved in 424 episodes!\n"
     ]
    },
    {
     "data": {
      "image/png": "[encoded data removed]",
      "text/plain": [
       "<Figure size 432x288 with 1 Axes>"
      ]
     },
     "metadata": {
      "needs_background": "light"
     },
     "output_type": "display_data"
    }
   ],
   "source": [
    "scores = dqn()\n",
    "\n",
    "# plot the scores\n",
    "fig = plt.figure()\n",
    "ax = fig.add_subplot(111)\n",
    "plt.plot(np.arange(len(scores)), scores)\n",
    "plt.ylabel('Score')\n",
    "plt.xlabel('Episode #')\n",
    "plt.show()\n",
    "\n",
    "torch.save(myAgent.qnetwork_local.state_dict(), 'checkpoint.pth')"
   ]
  },
  {
   "cell_type": "markdown",
   "id": "73a98ac2",
   "metadata": {},
   "source": [
    "### 8 - Running the trained agent "
   ]
  },
  {
   "cell_type": "code",
   "execution_count": null,
   "id": "5993bd8f",
   "metadata": {},
   "outputs": [],
   "source": [
    "env_info = env.reset(train_mode=False)[brain_name]\n",
    "myAgent = MyAgent(state_size=state_size, action_size=action_size, seed=0)\n",
    "myAgent.qnetwork_local.load_state_dict(torch.load('checkpoint.pth'))\n",
    "\n",
    "score = 0                                          # initialize the score\n",
    "\n",
    "while True:\n",
    "    #action = np.random.randint(action_size)        # select an action\n",
    "    action = int(myAgent.act(state))\n",
    "    env_info = env.step(action)[brain_name]        # send the action to the environment\n",
    "    next_state = env_info.vector_observations[0]   # get the next state\n",
    "    reward = env_info.rewards[0]                   # get the reward\n",
    "    done = env_info.local_done[0]                  # see if episode has finished\n",
    "    score += reward                                # update the score\n",
    "    state = next_state                             # roll over the state to next time step\n",
    "    if done:                                       # exit loop if episode finished\n",
    "        break\n",
    "    \n",
    "print(\"Score: {}\".format(score))"
   ]
  },
  {
   "cell_type": "markdown",
   "id": "41b755d4",
   "metadata": {},
   "source": [
    "### 9 - Closing the environment"
   ]
  },
  {
   "cell_type": "code",
   "execution_count": null,
   "id": "742a1156",
   "metadata": {},
   "outputs": [],
   "source": [
    "env.close()"
   ]
  }
 ],
 "metadata": {
  "kernelspec": {
   "display_name": "Python 3",
   "language": "python",
   "name": "python3"
  },
  "language_info": {
   "codemirror_mode": {
    "name": "ipython",
    "version": 3
   },
   "file_extension": ".py",
   "mimetype": "text/x-python",
   "name": "python",
   "nbconvert_exporter": "python",
   "pygments_lexer": "ipython3",
   "version": "3.6.13"
  }
 },
 "nbformat": 4,
 "nbformat_minor": 5
}
